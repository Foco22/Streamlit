{
 "cells": [
  {
   "cell_type": "code",
   "execution_count": 26,
   "metadata": {},
   "outputs": [],
   "source": [
    "import requests\n",
    "import folium\n",
    "from shapely.geometry import Point, Polygon"
   ]
  },
  {
   "cell_type": "code",
   "execution_count": 27,
   "metadata": {},
   "outputs": [
    {
     "name": "stdout",
     "output_type": "stream",
     "text": [
      "200 OK\n"
     ]
    }
   ],
   "source": [
    "\n",
    "body = {\"locations\":[[-70.92890714500028,-33.66700784785913]],\"range\":[7000,10000], \"location_type\":\"start\", \"area_units\":\"m\",\"range_type\":\"distance\"} #\"time\"\n",
    "\n",
    "headers = {\n",
    "    'Accept': 'application/json, application/geo+json, application/gpx+xml, img/png; charset=utf-8',\n",
    "    'Authorization': '5b3ce3597851110001cf6248e658560e7e39494f887f518072b503c2',\n",
    "    'Content-Type': 'application/json; charset=utf-8'\n",
    "}\n",
    "call = requests.post('https://api.openrouteservice.org/v2/isochrones/driving-car', json=body, headers=headers)\n",
    "\n",
    "print(call.status_code, call.reason)\n",
    "call = call.json()"
   ]
  },
  {
   "cell_type": "code",
   "execution_count": 28,
   "metadata": {},
   "outputs": [
    {
     "data": {
      "text/plain": [
       "[[-70.989263, -33.691893],\n",
       " [-70.987372, -33.694956],\n",
       " [-70.981021, -33.703487],\n",
       " [-70.970802, -33.709102],\n",
       " [-70.96224, -33.711188],\n",
       " [-70.960277, -33.709293],\n",
       " [-70.955826, -33.706026],\n",
       " [-70.956349, -33.702927],\n",
       " [-70.953222, -33.695155],\n",
       " [-70.948232, -33.689379],\n",
       " [-70.94603, -33.688156],\n",
       " [-70.942642, -33.686222],\n",
       " [-70.935706, -33.686049],\n",
       " [-70.933654, -33.694797],\n",
       " [-70.936619, -33.701598],\n",
       " [-70.935566, -33.704754],\n",
       " [-70.935669, -33.708972],\n",
       " [-70.9274, -33.715649],\n",
       " [-70.926411, -33.719111],\n",
       " [-70.922136, -33.722409],\n",
       " [-70.918413, -33.722368],\n",
       " [-70.91732, -33.721559],\n",
       " [-70.916777, -33.719161],\n",
       " [-70.913035, -33.7101],\n",
       " [-70.912398, -33.706557],\n",
       " [-70.916439, -33.705831],\n",
       " [-70.924049, -33.697327],\n",
       " [-70.921888, -33.692689],\n",
       " [-70.911457, -33.688659],\n",
       " [-70.908918, -33.689912],\n",
       " [-70.901053, -33.696811],\n",
       " [-70.897972, -33.701446],\n",
       " [-70.892498, -33.708491],\n",
       " [-70.889266, -33.710077],\n",
       " [-70.883185, -33.709188],\n",
       " [-70.875869, -33.705206],\n",
       " [-70.875654, -33.704953],\n",
       " [-70.876299, -33.70246],\n",
       " [-70.876935, -33.701491],\n",
       " [-70.880125, -33.699821],\n",
       " [-70.886897, -33.693962],\n",
       " [-70.889921, -33.692009],\n",
       " [-70.894737, -33.681141],\n",
       " [-70.890393, -33.675764],\n",
       " [-70.88985, -33.672041],\n",
       " [-70.887923, -33.668663],\n",
       " [-70.878143, -33.664647],\n",
       " [-70.875319, -33.666295],\n",
       " [-70.873632, -33.666896],\n",
       " [-70.872625, -33.667254],\n",
       " [-70.871417, -33.663863],\n",
       " [-70.872424, -33.663504],\n",
       " [-70.876849, -33.660196],\n",
       " [-70.878581, -33.650107],\n",
       " [-70.872195, -33.648085],\n",
       " [-70.869969, -33.641347],\n",
       " [-70.869258, -33.637817],\n",
       " [-70.871674, -33.632793],\n",
       " [-70.872124, -33.63235],\n",
       " [-70.874982, -33.63016],\n",
       " [-70.886019, -33.625637],\n",
       " [-70.890955, -33.620534],\n",
       " [-70.892947, -33.619731],\n",
       " [-70.901286, -33.612709],\n",
       " [-70.902574, -33.610609],\n",
       " [-70.903627, -33.609109],\n",
       " [-70.905269, -33.608701],\n",
       " [-70.905559, -33.608662],\n",
       " [-70.905976, -33.609084],\n",
       " [-70.906345, -33.609743],\n",
       " [-70.909362, -33.617971],\n",
       " [-70.909963, -33.620483],\n",
       " [-70.910729, -33.623689],\n",
       " [-70.917752, -33.633081],\n",
       " [-70.924987, -33.63489],\n",
       " [-70.928218, -33.634672],\n",
       " [-70.931958, -33.638871],\n",
       " [-70.932724, -33.644591],\n",
       " [-70.934447, -33.65137],\n",
       " [-70.935258, -33.657703],\n",
       " [-70.934811, -33.664688],\n",
       " [-70.942364, -33.669181],\n",
       " [-70.944907, -33.670075],\n",
       " [-70.951196, -33.673667],\n",
       " [-70.959396, -33.67891],\n",
       " [-70.962367, -33.679301],\n",
       " [-70.973581, -33.67523],\n",
       " [-70.977138, -33.673472],\n",
       " [-70.979205, -33.672504],\n",
       " [-70.980158, -33.672536],\n",
       " [-70.982562, -33.675906],\n",
       " [-70.986126, -33.68298],\n",
       " [-70.989263, -33.691893]]"
      ]
     },
     "execution_count": 28,
     "metadata": {},
     "output_type": "execute_result"
    }
   ],
   "source": [
    "call['features'][0]['geometry']['coordinates'][0]"
   ]
  },
  {
   "cell_type": "code",
   "execution_count": 29,
   "metadata": {},
   "outputs": [
    {
     "data": {
      "text/html": [
       "<div style=\"width:100%;\"><div style=\"position:relative;width:100%;height:0;padding-bottom:60%;\"><span style=\"color:#565656\">Make this Notebook Trusted to load map: File -> Trust Notebook</span><iframe src=\"about:blank\" style=\"position:absolute;width:100%;height:100%;left:0;top:0;border:none !important;\" data-html=%3C%21DOCTYPE%20html%3E%0A%3Chead%3E%20%20%20%20%0A%20%20%20%20%3Cmeta%20http-equiv%3D%22content-type%22%20content%3D%22text/html%3B%20charset%3DUTF-8%22%20/%3E%0A%20%20%20%20%0A%20%20%20%20%20%20%20%20%3Cscript%3E%0A%20%20%20%20%20%20%20%20%20%20%20%20L_NO_TOUCH%20%3D%20false%3B%0A%20%20%20%20%20%20%20%20%20%20%20%20L_DISABLE_3D%20%3D%20false%3B%0A%20%20%20%20%20%20%20%20%3C/script%3E%0A%20%20%20%20%0A%20%20%20%20%3Cstyle%3Ehtml%2C%20body%20%7Bwidth%3A%20100%25%3Bheight%3A%20100%25%3Bmargin%3A%200%3Bpadding%3A%200%3B%7D%3C/style%3E%0A%20%20%20%20%3Cstyle%3E%23map%20%7Bposition%3Aabsolute%3Btop%3A0%3Bbottom%3A0%3Bright%3A0%3Bleft%3A0%3B%7D%3C/style%3E%0A%20%20%20%20%3Cscript%20src%3D%22https%3A//cdn.jsdelivr.net/npm/leaflet%401.6.0/dist/leaflet.js%22%3E%3C/script%3E%0A%20%20%20%20%3Cscript%20src%3D%22https%3A//code.jquery.com/jquery-1.12.4.min.js%22%3E%3C/script%3E%0A%20%20%20%20%3Cscript%20src%3D%22https%3A//maxcdn.bootstrapcdn.com/bootstrap/3.2.0/js/bootstrap.min.js%22%3E%3C/script%3E%0A%20%20%20%20%3Cscript%20src%3D%22https%3A//cdnjs.cloudflare.com/ajax/libs/Leaflet.awesome-markers/2.0.2/leaflet.awesome-markers.js%22%3E%3C/script%3E%0A%20%20%20%20%3Clink%20rel%3D%22stylesheet%22%20href%3D%22https%3A//cdn.jsdelivr.net/npm/leaflet%401.6.0/dist/leaflet.css%22/%3E%0A%20%20%20%20%3Clink%20rel%3D%22stylesheet%22%20href%3D%22https%3A//maxcdn.bootstrapcdn.com/bootstrap/3.2.0/css/bootstrap.min.css%22/%3E%0A%20%20%20%20%3Clink%20rel%3D%22stylesheet%22%20href%3D%22https%3A//maxcdn.bootstrapcdn.com/bootstrap/3.2.0/css/bootstrap-theme.min.css%22/%3E%0A%20%20%20%20%3Clink%20rel%3D%22stylesheet%22%20href%3D%22https%3A//maxcdn.bootstrapcdn.com/font-awesome/4.6.3/css/font-awesome.min.css%22/%3E%0A%20%20%20%20%3Clink%20rel%3D%22stylesheet%22%20href%3D%22https%3A//cdnjs.cloudflare.com/ajax/libs/Leaflet.awesome-markers/2.0.2/leaflet.awesome-markers.css%22/%3E%0A%20%20%20%20%3Clink%20rel%3D%22stylesheet%22%20href%3D%22https%3A//cdn.jsdelivr.net/gh/python-visualization/folium/folium/templates/leaflet.awesome.rotate.min.css%22/%3E%0A%20%20%20%20%0A%20%20%20%20%20%20%20%20%20%20%20%20%3Cmeta%20name%3D%22viewport%22%20content%3D%22width%3Ddevice-width%2C%0A%20%20%20%20%20%20%20%20%20%20%20%20%20%20%20%20initial-scale%3D1.0%2C%20maximum-scale%3D1.0%2C%20user-scalable%3Dno%22%20/%3E%0A%20%20%20%20%20%20%20%20%20%20%20%20%3Cstyle%3E%0A%20%20%20%20%20%20%20%20%20%20%20%20%20%20%20%20%23map_d7779b6dcbf74bdf8c420095466db548%20%7B%0A%20%20%20%20%20%20%20%20%20%20%20%20%20%20%20%20%20%20%20%20position%3A%20relative%3B%0A%20%20%20%20%20%20%20%20%20%20%20%20%20%20%20%20%20%20%20%20width%3A%20100.0%25%3B%0A%20%20%20%20%20%20%20%20%20%20%20%20%20%20%20%20%20%20%20%20height%3A%20100.0%25%3B%0A%20%20%20%20%20%20%20%20%20%20%20%20%20%20%20%20%20%20%20%20left%3A%200.0%25%3B%0A%20%20%20%20%20%20%20%20%20%20%20%20%20%20%20%20%20%20%20%20top%3A%200.0%25%3B%0A%20%20%20%20%20%20%20%20%20%20%20%20%20%20%20%20%7D%0A%20%20%20%20%20%20%20%20%20%20%20%20%3C/style%3E%0A%20%20%20%20%20%20%20%20%0A%3C/head%3E%0A%3Cbody%3E%20%20%20%20%0A%20%20%20%20%0A%20%20%20%20%20%20%20%20%20%20%20%20%3Cdiv%20class%3D%22folium-map%22%20id%3D%22map_d7779b6dcbf74bdf8c420095466db548%22%20%3E%3C/div%3E%0A%20%20%20%20%20%20%20%20%0A%3C/body%3E%0A%3Cscript%3E%20%20%20%20%0A%20%20%20%20%0A%20%20%20%20%20%20%20%20%20%20%20%20var%20map_d7779b6dcbf74bdf8c420095466db548%20%3D%20L.map%28%0A%20%20%20%20%20%20%20%20%20%20%20%20%20%20%20%20%22map_d7779b6dcbf74bdf8c420095466db548%22%2C%0A%20%20%20%20%20%20%20%20%20%20%20%20%20%20%20%20%7B%0A%20%20%20%20%20%20%20%20%20%20%20%20%20%20%20%20%20%20%20%20center%3A%20%5B-33.66703463583147%2C%20-70.92890714500028%5D%2C%0A%20%20%20%20%20%20%20%20%20%20%20%20%20%20%20%20%20%20%20%20crs%3A%20L.CRS.EPSG3857%2C%0A%20%20%20%20%20%20%20%20%20%20%20%20%20%20%20%20%20%20%20%20zoom%3A%2012%2C%0A%20%20%20%20%20%20%20%20%20%20%20%20%20%20%20%20%20%20%20%20zoomControl%3A%20true%2C%0A%20%20%20%20%20%20%20%20%20%20%20%20%20%20%20%20%20%20%20%20preferCanvas%3A%20false%2C%0A%20%20%20%20%20%20%20%20%20%20%20%20%20%20%20%20%7D%0A%20%20%20%20%20%20%20%20%20%20%20%20%29%3B%0A%0A%20%20%20%20%20%20%20%20%20%20%20%20%0A%0A%20%20%20%20%20%20%20%20%0A%20%20%20%20%0A%20%20%20%20%20%20%20%20%20%20%20%20var%20tile_layer_bc5502f4ca704a41a9bcfdc60843f791%20%3D%20L.tileLayer%28%0A%20%20%20%20%20%20%20%20%20%20%20%20%20%20%20%20%22https%3A//%7Bs%7D.tile.openstreetmap.org/%7Bz%7D/%7Bx%7D/%7By%7D.png%22%2C%0A%20%20%20%20%20%20%20%20%20%20%20%20%20%20%20%20%7B%22attribution%22%3A%20%22Data%20by%20%5Cu0026copy%3B%20%5Cu003ca%20href%3D%5C%22http%3A//openstreetmap.org%5C%22%5Cu003eOpenStreetMap%5Cu003c/a%5Cu003e%2C%20under%20%5Cu003ca%20href%3D%5C%22http%3A//www.openstreetmap.org/copyright%5C%22%5Cu003eODbL%5Cu003c/a%5Cu003e.%22%2C%20%22detectRetina%22%3A%20false%2C%20%22maxNativeZoom%22%3A%2014%2C%20%22maxZoom%22%3A%2014%2C%20%22minZoom%22%3A%209%2C%20%22noWrap%22%3A%20false%2C%20%22opacity%22%3A%201%2C%20%22subdomains%22%3A%20%22abc%22%2C%20%22tms%22%3A%20false%7D%0A%20%20%20%20%20%20%20%20%20%20%20%20%29.addTo%28map_d7779b6dcbf74bdf8c420095466db548%29%3B%0A%20%20%20%20%20%20%20%20%0A%20%20%20%20%0A%0A%20%20%20%20%20%20%20%20function%20geo_json_23e68600f2db497085eee80be8725c20_onEachFeature%28feature%2C%20layer%29%20%7B%0A%20%20%20%20%20%20%20%20%20%20%20%20layer.on%28%7B%0A%20%20%20%20%20%20%20%20%20%20%20%20%7D%29%3B%0A%20%20%20%20%20%20%20%20%7D%3B%0A%20%20%20%20%20%20%20%20var%20geo_json_23e68600f2db497085eee80be8725c20%20%3D%20L.geoJson%28null%2C%20%7B%0A%20%20%20%20%20%20%20%20%20%20%20%20%20%20%20%20onEachFeature%3A%20geo_json_23e68600f2db497085eee80be8725c20_onEachFeature%2C%0A%20%20%20%20%20%20%20%20%20%20%20%20%0A%20%20%20%20%20%20%20%20%7D%29%3B%0A%0A%20%20%20%20%20%20%20%20function%20geo_json_23e68600f2db497085eee80be8725c20_add%20%28data%29%20%7B%0A%20%20%20%20%20%20%20%20%20%20%20%20geo_json_23e68600f2db497085eee80be8725c20%0A%20%20%20%20%20%20%20%20%20%20%20%20%20%20%20%20.addData%28data%29%0A%20%20%20%20%20%20%20%20%20%20%20%20%20%20%20%20.addTo%28map_d7779b6dcbf74bdf8c420095466db548%29%3B%0A%20%20%20%20%20%20%20%20%7D%0A%20%20%20%20%20%20%20%20%20%20%20%20geo_json_23e68600f2db497085eee80be8725c20_add%28%7B%22bbox%22%3A%20%5B-70.989263%2C%20-33.722409%2C%20-70.869258%2C%20-33.608662%5D%2C%20%22features%22%3A%20%5B%7B%22bbox%22%3A%20%5B-70.989263%2C%20-33.722409%2C%20-70.869258%2C%20-33.608662%5D%2C%20%22geometry%22%3A%20%7B%22coordinates%22%3A%20%5B%5B%5B-70.922136%2C%20-33.722409%5D%2C%20%5B-70.970802%2C%20-33.709102%5D%2C%20%5B-70.981021%2C%20-33.703487%5D%2C%20%5B-70.987372%2C%20-33.694956%5D%2C%20%5B-70.989263%2C%20-33.691893%5D%2C%20%5B-70.986126%2C%20-33.68298%5D%2C%20%5B-70.982562%2C%20-33.675906%5D%2C%20%5B-70.980158%2C%20-33.672536%5D%2C%20%5B-70.905559%2C%20-33.608662%5D%2C%20%5B-70.905269%2C%20-33.608701%5D%2C%20%5B-70.903627%2C%20-33.609109%5D%2C%20%5B-70.874982%2C%20-33.63016%5D%2C%20%5B-70.872124%2C%20-33.63235%5D%2C%20%5B-70.871674%2C%20-33.632793%5D%2C%20%5B-70.869258%2C%20-33.637817%5D%2C%20%5B-70.871417%2C%20-33.663863%5D%2C%20%5B-70.875654%2C%20-33.704953%5D%2C%20%5B-70.875869%2C%20-33.705206%5D%2C%20%5B-70.883185%2C%20-33.709188%5D%2C%20%5B-70.918413%2C%20-33.722368%5D%2C%20%5B-70.922136%2C%20-33.722409%5D%5D%5D%2C%20%22type%22%3A%20%22Polygon%22%7D%2C%20%22id%22%3A%20%220%22%2C%20%22properties%22%3A%20%7B%7D%2C%20%22type%22%3A%20%22Feature%22%7D%5D%2C%20%22type%22%3A%20%22FeatureCollection%22%7D%29%3B%0A%0A%20%20%20%20%20%20%20%20%0A%3C/script%3E onload=\"this.contentDocument.open();this.contentDocument.write(    decodeURIComponent(this.getAttribute('data-html')));this.contentDocument.close();\" allowfullscreen webkitallowfullscreen mozallowfullscreen></iframe></div></div>"
      ],
      "text/plain": [
       "<folium.folium.Map at 0x1507864e8e0>"
      ]
     },
     "execution_count": 29,
     "metadata": {},
     "output_type": "execute_result"
    }
   ],
   "source": [
    "from pyproj import CRS\n",
    "import geopandas as gpd\n",
    "\n",
    "santiago_opt = folium.Map(location=[-33.66703463583147, -70.92890714500028], zoom_start=12, min_zoom=9, max_zoom=14)\n",
    "\n",
    "polygon_geom = Polygon([[p[0], p[1]] for p in call['features'][0]['geometry']['coordinates'][0]])\n",
    "crs = CRS('EPSG:4326')\n",
    "polygon_5km = gpd.GeoDataFrame(index=[0], crs=crs, geometry=[polygon_geom])\n",
    "polygon_5km = polygon_5km.convex_hull\n",
    "folium.GeoJson(polygon_5km).add_to(santiago_opt)\n",
    "\n",
    "santiago_opt"
   ]
  },
  {
   "cell_type": "code",
   "execution_count": 30,
   "metadata": {},
   "outputs": [
    {
     "data": {
      "text/html": [
       "<div style=\"width:100%;\"><div style=\"position:relative;width:100%;height:0;padding-bottom:60%;\"><span style=\"color:#565656\">Make this Notebook Trusted to load map: File -> Trust Notebook</span><iframe src=\"about:blank\" style=\"position:absolute;width:100%;height:100%;left:0;top:0;border:none !important;\" data-html=%3C%21DOCTYPE%20html%3E%0A%3Chead%3E%20%20%20%20%0A%20%20%20%20%3Cmeta%20http-equiv%3D%22content-type%22%20content%3D%22text/html%3B%20charset%3DUTF-8%22%20/%3E%0A%20%20%20%20%0A%20%20%20%20%20%20%20%20%3Cscript%3E%0A%20%20%20%20%20%20%20%20%20%20%20%20L_NO_TOUCH%20%3D%20false%3B%0A%20%20%20%20%20%20%20%20%20%20%20%20L_DISABLE_3D%20%3D%20false%3B%0A%20%20%20%20%20%20%20%20%3C/script%3E%0A%20%20%20%20%0A%20%20%20%20%3Cstyle%3Ehtml%2C%20body%20%7Bwidth%3A%20100%25%3Bheight%3A%20100%25%3Bmargin%3A%200%3Bpadding%3A%200%3B%7D%3C/style%3E%0A%20%20%20%20%3Cstyle%3E%23map%20%7Bposition%3Aabsolute%3Btop%3A0%3Bbottom%3A0%3Bright%3A0%3Bleft%3A0%3B%7D%3C/style%3E%0A%20%20%20%20%3Cscript%20src%3D%22https%3A//cdn.jsdelivr.net/npm/leaflet%401.6.0/dist/leaflet.js%22%3E%3C/script%3E%0A%20%20%20%20%3Cscript%20src%3D%22https%3A//code.jquery.com/jquery-1.12.4.min.js%22%3E%3C/script%3E%0A%20%20%20%20%3Cscript%20src%3D%22https%3A//maxcdn.bootstrapcdn.com/bootstrap/3.2.0/js/bootstrap.min.js%22%3E%3C/script%3E%0A%20%20%20%20%3Cscript%20src%3D%22https%3A//cdnjs.cloudflare.com/ajax/libs/Leaflet.awesome-markers/2.0.2/leaflet.awesome-markers.js%22%3E%3C/script%3E%0A%20%20%20%20%3Clink%20rel%3D%22stylesheet%22%20href%3D%22https%3A//cdn.jsdelivr.net/npm/leaflet%401.6.0/dist/leaflet.css%22/%3E%0A%20%20%20%20%3Clink%20rel%3D%22stylesheet%22%20href%3D%22https%3A//maxcdn.bootstrapcdn.com/bootstrap/3.2.0/css/bootstrap.min.css%22/%3E%0A%20%20%20%20%3Clink%20rel%3D%22stylesheet%22%20href%3D%22https%3A//maxcdn.bootstrapcdn.com/bootstrap/3.2.0/css/bootstrap-theme.min.css%22/%3E%0A%20%20%20%20%3Clink%20rel%3D%22stylesheet%22%20href%3D%22https%3A//maxcdn.bootstrapcdn.com/font-awesome/4.6.3/css/font-awesome.min.css%22/%3E%0A%20%20%20%20%3Clink%20rel%3D%22stylesheet%22%20href%3D%22https%3A//cdnjs.cloudflare.com/ajax/libs/Leaflet.awesome-markers/2.0.2/leaflet.awesome-markers.css%22/%3E%0A%20%20%20%20%3Clink%20rel%3D%22stylesheet%22%20href%3D%22https%3A//cdn.jsdelivr.net/gh/python-visualization/folium/folium/templates/leaflet.awesome.rotate.min.css%22/%3E%0A%20%20%20%20%0A%20%20%20%20%20%20%20%20%20%20%20%20%3Cmeta%20name%3D%22viewport%22%20content%3D%22width%3Ddevice-width%2C%0A%20%20%20%20%20%20%20%20%20%20%20%20%20%20%20%20initial-scale%3D1.0%2C%20maximum-scale%3D1.0%2C%20user-scalable%3Dno%22%20/%3E%0A%20%20%20%20%20%20%20%20%20%20%20%20%3Cstyle%3E%0A%20%20%20%20%20%20%20%20%20%20%20%20%20%20%20%20%23map_7f3e0654c62a429cb1ae986c8bda7bc9%20%7B%0A%20%20%20%20%20%20%20%20%20%20%20%20%20%20%20%20%20%20%20%20position%3A%20relative%3B%0A%20%20%20%20%20%20%20%20%20%20%20%20%20%20%20%20%20%20%20%20width%3A%20100.0%25%3B%0A%20%20%20%20%20%20%20%20%20%20%20%20%20%20%20%20%20%20%20%20height%3A%20100.0%25%3B%0A%20%20%20%20%20%20%20%20%20%20%20%20%20%20%20%20%20%20%20%20left%3A%200.0%25%3B%0A%20%20%20%20%20%20%20%20%20%20%20%20%20%20%20%20%20%20%20%20top%3A%200.0%25%3B%0A%20%20%20%20%20%20%20%20%20%20%20%20%20%20%20%20%7D%0A%20%20%20%20%20%20%20%20%20%20%20%20%3C/style%3E%0A%20%20%20%20%20%20%20%20%0A%3C/head%3E%0A%3Cbody%3E%20%20%20%20%0A%20%20%20%20%0A%20%20%20%20%20%20%20%20%20%20%20%20%3Cdiv%20class%3D%22folium-map%22%20id%3D%22map_7f3e0654c62a429cb1ae986c8bda7bc9%22%20%3E%3C/div%3E%0A%20%20%20%20%20%20%20%20%0A%3C/body%3E%0A%3Cscript%3E%20%20%20%20%0A%20%20%20%20%0A%20%20%20%20%20%20%20%20%20%20%20%20var%20map_7f3e0654c62a429cb1ae986c8bda7bc9%20%3D%20L.map%28%0A%20%20%20%20%20%20%20%20%20%20%20%20%20%20%20%20%22map_7f3e0654c62a429cb1ae986c8bda7bc9%22%2C%0A%20%20%20%20%20%20%20%20%20%20%20%20%20%20%20%20%7B%0A%20%20%20%20%20%20%20%20%20%20%20%20%20%20%20%20%20%20%20%20center%3A%20%5B-33.66703463583147%2C%20-70.92890714500028%5D%2C%0A%20%20%20%20%20%20%20%20%20%20%20%20%20%20%20%20%20%20%20%20crs%3A%20L.CRS.EPSG3857%2C%0A%20%20%20%20%20%20%20%20%20%20%20%20%20%20%20%20%20%20%20%20zoom%3A%2012%2C%0A%20%20%20%20%20%20%20%20%20%20%20%20%20%20%20%20%20%20%20%20zoomControl%3A%20true%2C%0A%20%20%20%20%20%20%20%20%20%20%20%20%20%20%20%20%20%20%20%20preferCanvas%3A%20false%2C%0A%20%20%20%20%20%20%20%20%20%20%20%20%20%20%20%20%7D%0A%20%20%20%20%20%20%20%20%20%20%20%20%29%3B%0A%0A%20%20%20%20%20%20%20%20%20%20%20%20%0A%0A%20%20%20%20%20%20%20%20%0A%20%20%20%20%0A%20%20%20%20%20%20%20%20%20%20%20%20var%20tile_layer_8ecdf5f892d94602be97d2405ceacb0f%20%3D%20L.tileLayer%28%0A%20%20%20%20%20%20%20%20%20%20%20%20%20%20%20%20%22https%3A//%7Bs%7D.tile.openstreetmap.org/%7Bz%7D/%7Bx%7D/%7By%7D.png%22%2C%0A%20%20%20%20%20%20%20%20%20%20%20%20%20%20%20%20%7B%22attribution%22%3A%20%22Data%20by%20%5Cu0026copy%3B%20%5Cu003ca%20href%3D%5C%22http%3A//openstreetmap.org%5C%22%5Cu003eOpenStreetMap%5Cu003c/a%5Cu003e%2C%20under%20%5Cu003ca%20href%3D%5C%22http%3A//www.openstreetmap.org/copyright%5C%22%5Cu003eODbL%5Cu003c/a%5Cu003e.%22%2C%20%22detectRetina%22%3A%20false%2C%20%22maxNativeZoom%22%3A%2014%2C%20%22maxZoom%22%3A%2014%2C%20%22minZoom%22%3A%209%2C%20%22noWrap%22%3A%20false%2C%20%22opacity%22%3A%201%2C%20%22subdomains%22%3A%20%22abc%22%2C%20%22tms%22%3A%20false%7D%0A%20%20%20%20%20%20%20%20%20%20%20%20%29.addTo%28map_7f3e0654c62a429cb1ae986c8bda7bc9%29%3B%0A%20%20%20%20%20%20%20%20%0A%20%20%20%20%0A%0A%20%20%20%20%20%20%20%20function%20geo_json_e5953e4a8edc466d8d5d099ae4830eb7_onEachFeature%28feature%2C%20layer%29%20%7B%0A%20%20%20%20%20%20%20%20%20%20%20%20layer.on%28%7B%0A%20%20%20%20%20%20%20%20%20%20%20%20%7D%29%3B%0A%20%20%20%20%20%20%20%20%7D%3B%0A%20%20%20%20%20%20%20%20var%20geo_json_e5953e4a8edc466d8d5d099ae4830eb7%20%3D%20L.geoJson%28null%2C%20%7B%0A%20%20%20%20%20%20%20%20%20%20%20%20%20%20%20%20onEachFeature%3A%20geo_json_e5953e4a8edc466d8d5d099ae4830eb7_onEachFeature%2C%0A%20%20%20%20%20%20%20%20%20%20%20%20%0A%20%20%20%20%20%20%20%20%7D%29%3B%0A%0A%20%20%20%20%20%20%20%20function%20geo_json_e5953e4a8edc466d8d5d099ae4830eb7_add%20%28data%29%20%7B%0A%20%20%20%20%20%20%20%20%20%20%20%20geo_json_e5953e4a8edc466d8d5d099ae4830eb7%0A%20%20%20%20%20%20%20%20%20%20%20%20%20%20%20%20.addData%28data%29%0A%20%20%20%20%20%20%20%20%20%20%20%20%20%20%20%20.addTo%28map_7f3e0654c62a429cb1ae986c8bda7bc9%29%3B%0A%20%20%20%20%20%20%20%20%7D%0A%20%20%20%20%20%20%20%20%20%20%20%20geo_json_e5953e4a8edc466d8d5d099ae4830eb7_add%28%7B%22bbox%22%3A%20%5B-71.015982%2C%20-33.745228%2C%20-70.837745%2C%20-33.587887%5D%2C%20%22features%22%3A%20%5B%7B%22bbox%22%3A%20%5B-71.015982%2C%20-33.745228%2C%20-70.837745%2C%20-33.587887%5D%2C%20%22geometry%22%3A%20%7B%22coordinates%22%3A%20%5B%5B%5B-70.920338%2C%20-33.745228%5D%2C%20%5B-71.006145%2C%20-33.714035%5D%2C%20%5B-71.012884%2C%20-33.707227%5D%2C%20%5B-71.015684%2C%20-33.686677%5D%2C%20%5B-71.015982%2C%20-33.683831%5D%2C%20%5B-71.012421%2C%20-33.673528%5D%2C%20%5B-70.9243%2C%20-33.597575%5D%2C%20%5B-70.923183%2C%20-33.596965%5D%2C%20%5B-70.900269%2C%20-33.588166%5D%2C%20%5B-70.899666%2C%20-33.588011%5D%2C%20%5B-70.898437%2C%20-33.587887%5D%2C%20%5B-70.889044%2C%20-33.58959%5D%2C%20%5B-70.855653%2C%20-33.607663%5D%2C%20%5B-70.85423%2C%20-33.610124%5D%2C%20%5B-70.847558%2C%20-33.624273%5D%2C%20%5B-70.840809%2C%20-33.639778%5D%2C%20%5B-70.837745%2C%20-33.646897%5D%2C%20%5B-70.837843%2C%20-33.648234%5D%2C%20%5B-70.837907%2C%20-33.648739%5D%2C%20%5B-70.841968%2C%20-33.670977%5D%2C%20%5B-70.849783%2C%20-33.711716%5D%2C%20%5B-70.85124%2C%20-33.715008%5D%2C%20%5B-70.904351%2C%20-33.742974%5D%2C%20%5B-70.91084%2C%20-33.744659%5D%2C%20%5B-70.920338%2C%20-33.745228%5D%5D%5D%2C%20%22type%22%3A%20%22Polygon%22%7D%2C%20%22id%22%3A%20%220%22%2C%20%22properties%22%3A%20%7B%7D%2C%20%22type%22%3A%20%22Feature%22%7D%5D%2C%20%22type%22%3A%20%22FeatureCollection%22%7D%29%3B%0A%0A%20%20%20%20%20%20%20%20%0A%3C/script%3E onload=\"this.contentDocument.open();this.contentDocument.write(    decodeURIComponent(this.getAttribute('data-html')));this.contentDocument.close();\" allowfullscreen webkitallowfullscreen mozallowfullscreen></iframe></div></div>"
      ],
      "text/plain": [
       "<folium.folium.Map at 0x15079e9ab50>"
      ]
     },
     "execution_count": 30,
     "metadata": {},
     "output_type": "execute_result"
    }
   ],
   "source": [
    "from pyproj import CRS\n",
    "import geopandas as gpd\n",
    "\n",
    "santiago_opt = folium.Map(location=[-33.66703463583147, -70.92890714500028], zoom_start=12, min_zoom=9, max_zoom=14)\n",
    "\n",
    "polygon_geom = Polygon([[p[0], p[1]] for p in call['features'][1]['geometry']['coordinates'][0]])\n",
    "crs = CRS('EPSG:4326')\n",
    "polygon_7km = gpd.GeoDataFrame(index=[0], crs=crs, geometry=[polygon_geom])\n",
    "polygon_7km = polygon_7km.convex_hull\n",
    "folium.GeoJson(polygon_7km).add_to(santiago_opt)\n",
    "\n",
    "santiago_opt"
   ]
  },
  {
   "cell_type": "code",
   "execution_count": 25,
   "metadata": {},
   "outputs": [],
   "source": [
    "import fiona\n",
    "\n",
    "gpd.io.file.fiona.drvsupport.supported_drivers['KML'] = 'rw'\n",
    "fiona.supported_drivers['KML'] = 'rw'\n",
    "\n",
    "polygon_7km.to_file('talagante_10km.kml', driver='KML')"
   ]
  },
  {
   "cell_type": "code",
   "execution_count": null,
   "metadata": {},
   "outputs": [],
   "source": []
  }
 ],
 "metadata": {
  "interpreter": {
   "hash": "014da520332608d7fa8237bbd775449114ece34cfd0ab88ac15960644ac840d4"
  },
  "kernelspec": {
   "display_name": "Python 3",
   "language": "python",
   "name": "python3"
  },
  "language_info": {
   "codemirror_mode": {
    "name": "ipython",
    "version": 3
   },
   "file_extension": ".py",
   "mimetype": "text/x-python",
   "name": "python",
   "nbconvert_exporter": "python",
   "pygments_lexer": "ipython3",
   "version": "3.8.8"
  }
 },
 "nbformat": 4,
 "nbformat_minor": 2
}
